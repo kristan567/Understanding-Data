{
 "cells": [
  {
   "cell_type": "code",
   "execution_count": 1,
   "id": "deff6630-5b89-4667-9f39-79771a45ab1b",
   "metadata": {},
   "outputs": [],
   "source": [
    "l=[1,2,3,4,5,6,7,8,9]"
   ]
  },
  {
   "cell_type": "code",
   "execution_count": 2,
   "id": "2be8ec6b-fb42-4ade-affb-9d0bb3dcca4c",
   "metadata": {},
   "outputs": [
    {
     "name": "stdout",
     "output_type": "stream",
     "text": [
      "0\n",
      "1\n",
      "2\n",
      "3\n",
      "4\n",
      "5\n",
      "6\n",
      "7\n",
      "8\n"
     ]
    }
   ],
   "source": [
    "for i in range(len(l)):\n",
    "    print(i)"
   ]
  },
  {
   "cell_type": "code",
   "execution_count": 3,
   "id": "56ef908f-a27b-4923-b699-193cabbd96fb",
   "metadata": {},
   "outputs": [
    {
     "name": "stdout",
     "output_type": "stream",
     "text": [
      "1\n",
      "2\n",
      "3\n",
      "4\n",
      "5\n",
      "6\n",
      "7\n",
      "8\n",
      "9\n"
     ]
    }
   ],
   "source": [
    "for i in range(len(l)):\n",
    "    \n",
    "    print(l[i])"
   ]
  },
  {
   "cell_type": "code",
   "execution_count": 4,
   "id": "c0abef7a-6665-456e-8c86-ba0a6e313bbb",
   "metadata": {},
   "outputs": [
    {
     "name": "stdout",
     "output_type": "stream",
     "text": [
      "1\n",
      "2\n",
      "3\n",
      "4\n",
      "5\n",
      "6\n",
      "7\n",
      "8\n",
      "9\n"
     ]
    }
   ],
   "source": [
    "for number in l:\n",
    "    print(number)"
   ]
  },
  {
   "cell_type": "code",
   "execution_count": 5,
   "id": "fd7808c5-dfee-447a-b446-9a05c8b5dbbf",
   "metadata": {},
   "outputs": [],
   "source": [
    "def noreturn(a,b):\n",
    "    c=a+b\n",
    "    print(\"this is without return typr:\" , c)\n",
    "    \n",
    "def withreturn(a,b):\n",
    "    c=a+b\n",
    "    return c\n",
    "\n"
   ]
  },
  {
   "cell_type": "code",
   "execution_count": 6,
   "id": "79297da3-c2b4-4ce7-b987-9de172594af1",
   "metadata": {},
   "outputs": [
    {
     "name": "stdout",
     "output_type": "stream",
     "text": [
      "this is without return typr: 5\n"
     ]
    }
   ],
   "source": [
    "add1= noreturn(3,2)\n"
   ]
  },
  {
   "cell_type": "code",
   "execution_count": 7,
   "id": "9ae06293-1832-4b4b-bfbb-c7f20161c3a7",
   "metadata": {},
   "outputs": [
    {
     "name": "stdout",
     "output_type": "stream",
     "text": [
      "hudainata 6\n"
     ]
    }
   ],
   "source": [
    "add2= withreturn(2,4)\n",
    "print(\"hudainata\", add2)"
   ]
  },
  {
   "cell_type": "code",
   "execution_count": 8,
   "id": "a590b38c-75df-4ea0-993c-8075d9e6b641",
   "metadata": {},
   "outputs": [],
   "source": [
    "mat = [[1,2,3],[4,5,6],[7,8,9]]"
   ]
  },
  {
   "cell_type": "code",
   "execution_count": 9,
   "id": "f0e978a1-1d66-4fe2-8de2-9b628677b4b8",
   "metadata": {},
   "outputs": [
    {
     "data": {
      "text/plain": [
       "3"
      ]
     },
     "execution_count": 9,
     "metadata": {},
     "output_type": "execute_result"
    }
   ],
   "source": [
    "len(mat)"
   ]
  },
  {
   "cell_type": "code",
   "execution_count": 10,
   "id": "370361df-89f5-4d6c-b803-43fcfc9701c4",
   "metadata": {},
   "outputs": [
    {
     "data": {
      "text/plain": [
       "7"
      ]
     },
     "execution_count": 10,
     "metadata": {},
     "output_type": "execute_result"
    }
   ],
   "source": [
    "mat[2][0]"
   ]
  },
  {
   "cell_type": "code",
   "execution_count": 11,
   "id": "17e82a8e-005e-4c70-91fc-81e143288b97",
   "metadata": {},
   "outputs": [
    {
     "name": "stdout",
     "output_type": "stream",
     "text": [
      "[1, 2, 3]\n",
      "[4, 5, 6]\n",
      "[7, 8, 9]\n",
      "[1, 2, 3]\n",
      "[4, 5, 6]\n",
      "[7, 8, 9]\n",
      "[1, 2, 3]\n",
      "[4, 5, 6]\n",
      "[7, 8, 9]\n"
     ]
    }
   ],
   "source": [
    "for i in range(len(mat)):\n",
    "    for j in range(len(mat[i])):\n",
    "        print(mat[j]) \n",
    "        \n",
    "        "
   ]
  },
  {
   "cell_type": "code",
   "execution_count": 12,
   "id": "73b3b6a9-5084-4544-ac5a-f1e00dff484d",
   "metadata": {},
   "outputs": [
    {
     "data": {
      "text/plain": [
       "[0, 0, 0]"
      ]
     },
     "execution_count": 12,
     "metadata": {},
     "output_type": "execute_result"
    }
   ],
   "source": [
    "sums = [0]*len(mat[0])\n",
    "sums"
   ]
  },
  {
   "cell_type": "code",
   "execution_count": 13,
   "id": "952d54dc-d3e4-4527-bab8-818fc8d690a1",
   "metadata": {},
   "outputs": [
    {
     "data": {
      "text/plain": [
       "[12, 15, 18]"
      ]
     },
     "execution_count": 13,
     "metadata": {},
     "output_type": "execute_result"
    }
   ],
   "source": [
    "for i in range(len(mat)):\n",
    "    for j in range(len(mat[i])):\n",
    "        sums[j]+=mat[i][j]\n",
    "sums"
   ]
  },
  {
   "cell_type": "code",
   "execution_count": 14,
   "id": "723e1aa5-d58a-464e-9344-d0f958130d6b",
   "metadata": {},
   "outputs": [
    {
     "name": "stdout",
     "output_type": "stream",
     "text": [
      "1015\n",
      "1050\n",
      "1085\n",
      "1120\n",
      "1155\n",
      "1190\n",
      "1225\n",
      "1260\n",
      "1295\n",
      "1330\n",
      "1365\n",
      "1400\n",
      "1435\n",
      "1470\n",
      "1505\n",
      "1540\n",
      "1575\n",
      "1610\n",
      "1645\n",
      "1680\n",
      "1715\n",
      "1750\n",
      "1785\n",
      "1820\n",
      "1855\n",
      "1890\n",
      "1925\n",
      "1960\n",
      "1995\n"
     ]
    }
   ],
   "source": [
    "for i in range(1000,2000):\n",
    "    if (i%7 == 0) & (i%5 == 0):\n",
    "        print(i)"
   ]
  },
  {
   "cell_type": "code",
   "execution_count": 15,
   "id": "7c8dd708-d4fa-4b31-a788-931569b9a919",
   "metadata": {},
   "outputs": [],
   "source": [
    "def forc(f):\n",
    "    \n",
    "    pro = (f-32/9)*5\n",
    "    return pro"
   ]
  },
  {
   "cell_type": "code",
   "execution_count": 16,
   "id": "9028e3d3-76e7-4479-9e73-bf44f026a1b2",
   "metadata": {},
   "outputs": [],
   "source": [
    "def forf(c):\n",
    "    pro2 = c/5*9+32\n",
    "    return pro2\n"
   ]
  },
  {
   "cell_type": "code",
   "execution_count": 17,
   "id": "276fbd48-719d-4e87-88fb-b1bc067ff7d1",
   "metadata": {},
   "outputs": [
    {
     "name": "stdout",
     "output_type": "stream",
     "text": [
      "482.22222222222223\n"
     ]
    }
   ],
   "source": [
    " res = forc(100)\n",
    "print(res)\n"
   ]
  },
  {
   "cell_type": "code",
   "execution_count": 18,
   "id": "c801e1d9-9651-4f2e-b5a4-000765dab20c",
   "metadata": {},
   "outputs": [
    {
     "data": {
      "text/plain": [
       "8"
      ]
     },
     "execution_count": 18,
     "metadata": {},
     "output_type": "execute_result"
    }
   ],
   "source": [
    "import random\n",
    "number=random.randint(1,9)\n",
    "\n",
    "\n",
    "\n"
   ]
  },
  {
   "cell_type": "code",
   "execution_count": 19,
   "id": "fee931c2-d030-4b48-a2b6-4f5ffa36100c",
   "metadata": {},
   "outputs": [
    {
     "name": "stdin",
     "output_type": "stream",
     "text": [
      "Guess number between 1 to 9:- 2\n"
     ]
    },
    {
     "name": "stdout",
     "output_type": "stream",
     "text": [
      "Try again\n"
     ]
    },
    {
     "name": "stdin",
     "output_type": "stream",
     "text": [
      "Guess number between 1 to 9:- 3\n"
     ]
    },
    {
     "name": "stdout",
     "output_type": "stream",
     "text": [
      "Try again\n"
     ]
    },
    {
     "name": "stdin",
     "output_type": "stream",
     "text": [
      "Guess number between 1 to 9:- 3\n"
     ]
    },
    {
     "name": "stdout",
     "output_type": "stream",
     "text": [
      "Try again\n"
     ]
    },
    {
     "name": "stdin",
     "output_type": "stream",
     "text": [
      "Guess number between 1 to 9:- 4\n"
     ]
    },
    {
     "name": "stdout",
     "output_type": "stream",
     "text": [
      "Try again\n"
     ]
    },
    {
     "name": "stdin",
     "output_type": "stream",
     "text": [
      "Guess number between 1 to 9:- 5\n"
     ]
    },
    {
     "name": "stdout",
     "output_type": "stream",
     "text": [
      "Try again\n"
     ]
    },
    {
     "name": "stdin",
     "output_type": "stream",
     "text": [
      "Guess number between 1 to 9:- 6\n"
     ]
    },
    {
     "name": "stdout",
     "output_type": "stream",
     "text": [
      "Try again\n"
     ]
    },
    {
     "name": "stdin",
     "output_type": "stream",
     "text": [
      "Guess number between 1 to 9:- 6\n"
     ]
    },
    {
     "name": "stdout",
     "output_type": "stream",
     "text": [
      "Try again\n"
     ]
    },
    {
     "name": "stdin",
     "output_type": "stream",
     "text": [
      "Guess number between 1 to 9:- 1\n"
     ]
    },
    {
     "name": "stdout",
     "output_type": "stream",
     "text": [
      "Try again\n"
     ]
    },
    {
     "name": "stdin",
     "output_type": "stream",
     "text": [
      "Guess number between 1 to 9:- 9\n"
     ]
    },
    {
     "name": "stdout",
     "output_type": "stream",
     "text": [
      "Try again\n"
     ]
    },
    {
     "name": "stdin",
     "output_type": "stream",
     "text": [
      "Guess number between 1 to 9:- 34\n"
     ]
    },
    {
     "name": "stdout",
     "output_type": "stream",
     "text": [
      "Try again\n"
     ]
    },
    {
     "name": "stdin",
     "output_type": "stream",
     "text": [
      "Guess number between 1 to 9:- 8\n"
     ]
    },
    {
     "name": "stdout",
     "output_type": "stream",
     "text": [
      "Well Guess!!\n"
     ]
    }
   ],
   "source": [
    "while True:\n",
    "    guess=input(\"Guess number between 1 to 9:-\")\n",
    "    if int(guess) == number:\n",
    "        print(\"Well Guess!!\")\n",
    "        break\n",
    "    else:\n",
    "        print(\"Try again\")"
   ]
  },
  {
   "cell_type": "code",
   "execution_count": 20,
   "id": "dab98d39-ee90-4013-b856-2aa8d56affae",
   "metadata": {
    "tags": []
   },
   "outputs": [
    {
     "name": "stdout",
     "output_type": "stream",
     "text": [
      "* \n",
      "* * \n",
      "* * * \n",
      "* * * * \n",
      "* * * * * \n",
      "* * * * \n",
      "* * * \n",
      "* * \n",
      "* \n"
     ]
    }
   ],
   "source": [
    "for i in range(1,6):\n",
    "    for j in range(i):\n",
    "        print(\"*\", end=\" \")\n",
    "    print()\n",
    "for i in range(4,0,-1):\n",
    "    for j in range(i):\n",
    "        print(\"*\", end=\" \")\n",
    "    print()"
   ]
  },
  {
   "cell_type": "code",
   "execution_count": 21,
   "id": "64ab1f11-9a41-4b57-ac38-0b1c972c5898",
   "metadata": {},
   "outputs": [
    {
     "name": "stdin",
     "output_type": "stream",
     "text": [
      "enter the word: hello\n"
     ]
    },
    {
     "name": "stdout",
     "output_type": "stream",
     "text": [
      "o\n",
      "l\n",
      "l\n",
      "e\n",
      "h\n"
     ]
    }
   ],
   "source": [
    "word= input(\"enter the word:\")\n",
    "for i in range(len(word)-1, -1, -1):\n",
    "    print(word[i])"
   ]
  },
  {
   "cell_type": "code",
   "execution_count": 28,
   "id": "0c69ae10-a96d-415c-b38a-d81d7af02c8b",
   "metadata": {},
   "outputs": [
    {
     "data": {
      "text/plain": [
       "Bhaktapur            NaN\n",
       "Biratnagar           NaN\n",
       "Butwal               NaN\n",
       "Kathmandu      3200000.0\n",
       "Lalitpur       1200000.0\n",
       "Narayangarh          NaN\n",
       "Pokhara        1000000.0\n",
       "dtype: float64"
      ]
     },
     "execution_count": 28,
     "metadata": {},
     "output_type": "execute_result"
    }
   ],
   "source": [
    "import pandas as pd\n",
    "first= pd.Series([200000, 1600000, 600000, 500000, 350000], index=['Biratnagar', 'Kathmandu', 'Lalitpur', 'Pokhara', 'Narayangarh'])\n",
    "\n",
    "\n",
    "second= pd.Series([150000, 1600000, 600000, 500000, 300000] , index=['Bhaktapur', 'Kathmandu', 'Lalitpur', 'Pokhara', 'Butwal'] )\n",
    "first + second"
   ]
  },
  {
   "cell_type": "code",
   "execution_count": 34,
   "id": "3a266ce9-536d-411e-9eb3-92607a56db44",
   "metadata": {},
   "outputs": [
    {
     "name": "stdout",
     "output_type": "stream",
     "text": [
      "subjects  ENG  NEP  MAT  SCI  COM\n",
      "students                         \n",
      "RAM        57   34   93   84   54\n",
      "SHYAM      48   49   52   89   64\n",
      "GITA       66   64   75   38   84\n",
      "HARI       55   47   90   82   37\n",
      "SITA       45   93   70   53   76\n",
      "SUSHILA    45   63   33   53   72\n",
      "RAMESH     68   34   42   43   84\n",
      "SUBODH     62   69   67   50   94\n",
      "ANIL       59   33   51   68   33\n",
      "RUPA       57   91   60   37   44\n"
     ]
    }
   ],
   "source": [
    "import pandas as pd\n",
    "\n",
    "serial_no = [1, 2, 3, 4, 5, 6, 7, 8, 9, 10]\n",
    "subjects = ['ENG', 'NEP', 'MAT', 'SCI', 'COM']\n",
    "students = ['RAM','SHYAM','GITA','HARI','SITA','SUSHILA','RAMESH','SUBODH','ANIL','RUPA']\n",
    "marks = [[57, 34, 93, 84, 54], [48, 49, 52, 89, 64], [66, 64, 75, 38, 84], [55, 47, 90, 82, 37], [45, 93, 70, 53, 76], [45, 63, 33, 53, 72], [68, 34, 42, 43, 84], [62, 69, 67, 50, 94], [59, 33, 51, 68, 33], [57, 91, 60, 37, 44]]\n",
    "\n",
    "df_ = pd.DataFrame(marks, index=serial_no, columns=subjects)\n",
    "df_.index.name = 'serial_no'\n",
    "df_.columns.name = 'subjects'\n",
    "df_['students'] = students\n",
    "df_ = df_.set_index('students')\n",
    "print(df_)"
   ]
  },
  {
   "cell_type": "code",
   "execution_count": null,
   "id": "06b850ac-90b4-4126-9b38-367aaf1f5189",
   "metadata": {},
   "outputs": [],
   "source": []
  }
 ],
 "metadata": {
  "kernelspec": {
   "display_name": "Python 3 (ipykernel)",
   "language": "python",
   "name": "python3"
  },
  "language_info": {
   "codemirror_mode": {
    "name": "ipython",
    "version": 3
   },
   "file_extension": ".py",
   "mimetype": "text/x-python",
   "name": "python",
   "nbconvert_exporter": "python",
   "pygments_lexer": "ipython3",
   "version": "3.9.13"
  }
 },
 "nbformat": 4,
 "nbformat_minor": 5
}
