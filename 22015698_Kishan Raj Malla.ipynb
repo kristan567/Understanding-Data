{
 "cells": [
  {
   "cell_type": "markdown",
   "id": "d5fd66e7-b24c-410c-9136-1bb925179a5e",
   "metadata": {},
   "source": [
    "<h4> Write a python program to merge data from each month into one CSV and read in updated dataframe. </h4>"
   ]
  },
  {
   "cell_type": "code",
   "execution_count": 3,
   "id": "27c689dc-5d37-4393-ab9f-92678b520d84",
   "metadata": {},
   "outputs": [
    {
     "name": "stdout",
     "output_type": "stream",
     "text": [
      "Sales_April_2019.csv\n",
      "Sales_August_2019.csv\n",
      "Sales_December_2019.csv\n",
      "Sales_February_2019.csv\n",
      "Sales_January_2019.csv\n",
      "Sales_July_2019.csv\n",
      "Sales_June_2019.csv\n",
      "Sales_March_2019.csv\n",
      "Sales_May_2019.csv\n",
      "Sales_November_2019.csv\n",
      "Sales_October_2019.csv\n",
      "Sales_September_2019.csv\n"
     ]
    },
    {
     "data": {
      "text/html": [
       "<div>\n",
       "<style scoped>\n",
       "    .dataframe tbody tr th:only-of-type {\n",
       "        vertical-align: middle;\n",
       "    }\n",
       "\n",
       "    .dataframe tbody tr th {\n",
       "        vertical-align: top;\n",
       "    }\n",
       "\n",
       "    .dataframe thead th {\n",
       "        text-align: right;\n",
       "    }\n",
       "</style>\n",
       "<table border=\"1\" class=\"dataframe\">\n",
       "  <thead>\n",
       "    <tr style=\"text-align: right;\">\n",
       "      <th></th>\n",
       "      <th>Order ID</th>\n",
       "      <th>Product</th>\n",
       "      <th>Quantity Ordered</th>\n",
       "      <th>Price Each</th>\n",
       "      <th>Order Date</th>\n",
       "      <th>Purchase Address</th>\n",
       "    </tr>\n",
       "  </thead>\n",
       "  <tbody>\n",
       "    <tr>\n",
       "      <th>0</th>\n",
       "      <td>176558.0</td>\n",
       "      <td>USB-C Charging Cable</td>\n",
       "      <td>2.0</td>\n",
       "      <td>11.95</td>\n",
       "      <td>4/19/2019 8:46</td>\n",
       "      <td>917 1st St, Dallas, TX 75001</td>\n",
       "    </tr>\n",
       "    <tr>\n",
       "      <th>1</th>\n",
       "      <td>NaN</td>\n",
       "      <td>NaN</td>\n",
       "      <td>NaN</td>\n",
       "      <td>NaN</td>\n",
       "      <td>NaN</td>\n",
       "      <td>NaN</td>\n",
       "    </tr>\n",
       "    <tr>\n",
       "      <th>2</th>\n",
       "      <td>176559.0</td>\n",
       "      <td>Bose SoundSport Headphones</td>\n",
       "      <td>1.0</td>\n",
       "      <td>99.99</td>\n",
       "      <td>4/7/2019 22:30</td>\n",
       "      <td>682 Chestnut St, Boston, MA 02215</td>\n",
       "    </tr>\n",
       "    <tr>\n",
       "      <th>3</th>\n",
       "      <td>176560.0</td>\n",
       "      <td>Google Phone</td>\n",
       "      <td>1.0</td>\n",
       "      <td>600.00</td>\n",
       "      <td>4/12/2019 14:38</td>\n",
       "      <td>669 Spruce St, Los Angeles, CA 90001</td>\n",
       "    </tr>\n",
       "    <tr>\n",
       "      <th>4</th>\n",
       "      <td>176560.0</td>\n",
       "      <td>Wired Headphones</td>\n",
       "      <td>1.0</td>\n",
       "      <td>11.99</td>\n",
       "      <td>4/12/2019 14:38</td>\n",
       "      <td>669 Spruce St, Los Angeles, CA 90001</td>\n",
       "    </tr>\n",
       "    <tr>\n",
       "      <th>...</th>\n",
       "      <td>...</td>\n",
       "      <td>...</td>\n",
       "      <td>...</td>\n",
       "      <td>...</td>\n",
       "      <td>...</td>\n",
       "      <td>...</td>\n",
       "    </tr>\n",
       "    <tr>\n",
       "      <th>11681</th>\n",
       "      <td>259353.0</td>\n",
       "      <td>AAA Batteries (4-pack)</td>\n",
       "      <td>3.0</td>\n",
       "      <td>2.99</td>\n",
       "      <td>9/17/2019 20:56</td>\n",
       "      <td>840 Highland St, Los Angeles, CA 90001</td>\n",
       "    </tr>\n",
       "    <tr>\n",
       "      <th>11682</th>\n",
       "      <td>259354.0</td>\n",
       "      <td>iPhone</td>\n",
       "      <td>1.0</td>\n",
       "      <td>700.00</td>\n",
       "      <td>9/1/2019 16:00</td>\n",
       "      <td>216 Dogwood St, San Francisco, CA 94016</td>\n",
       "    </tr>\n",
       "    <tr>\n",
       "      <th>11683</th>\n",
       "      <td>259355.0</td>\n",
       "      <td>iPhone</td>\n",
       "      <td>1.0</td>\n",
       "      <td>700.00</td>\n",
       "      <td>9/23/2019 7:39</td>\n",
       "      <td>220 12th St, San Francisco, CA 94016</td>\n",
       "    </tr>\n",
       "    <tr>\n",
       "      <th>11684</th>\n",
       "      <td>259356.0</td>\n",
       "      <td>34in Ultrawide Monitor</td>\n",
       "      <td>1.0</td>\n",
       "      <td>379.99</td>\n",
       "      <td>9/19/2019 17:30</td>\n",
       "      <td>511 Forest St, San Francisco, CA 94016</td>\n",
       "    </tr>\n",
       "    <tr>\n",
       "      <th>11685</th>\n",
       "      <td>259357.0</td>\n",
       "      <td>USB-C Charging Cable</td>\n",
       "      <td>1.0</td>\n",
       "      <td>11.95</td>\n",
       "      <td>9/30/2019 0:18</td>\n",
       "      <td>250 Meadow St, San Francisco, CA 94016</td>\n",
       "    </tr>\n",
       "  </tbody>\n",
       "</table>\n",
       "<p>186850 rows × 6 columns</p>\n",
       "</div>"
      ],
      "text/plain": [
       "       Order ID                     Product  Quantity Ordered  Price Each  \\\n",
       "0      176558.0        USB-C Charging Cable               2.0       11.95   \n",
       "1           NaN                         NaN               NaN         NaN   \n",
       "2      176559.0  Bose SoundSport Headphones               1.0       99.99   \n",
       "3      176560.0                Google Phone               1.0      600.00   \n",
       "4      176560.0            Wired Headphones               1.0       11.99   \n",
       "...         ...                         ...               ...         ...   \n",
       "11681  259353.0      AAA Batteries (4-pack)               3.0        2.99   \n",
       "11682  259354.0                      iPhone               1.0      700.00   \n",
       "11683  259355.0                      iPhone               1.0      700.00   \n",
       "11684  259356.0      34in Ultrawide Monitor               1.0      379.99   \n",
       "11685  259357.0        USB-C Charging Cable               1.0       11.95   \n",
       "\n",
       "            Order Date                         Purchase Address  \n",
       "0       4/19/2019 8:46             917 1st St, Dallas, TX 75001  \n",
       "1                  NaN                                      NaN  \n",
       "2       4/7/2019 22:30        682 Chestnut St, Boston, MA 02215  \n",
       "3      4/12/2019 14:38     669 Spruce St, Los Angeles, CA 90001  \n",
       "4      4/12/2019 14:38     669 Spruce St, Los Angeles, CA 90001  \n",
       "...                ...                                      ...  \n",
       "11681  9/17/2019 20:56   840 Highland St, Los Angeles, CA 90001  \n",
       "11682   9/1/2019 16:00  216 Dogwood St, San Francisco, CA 94016  \n",
       "11683   9/23/2019 7:39     220 12th St, San Francisco, CA 94016  \n",
       "11684  9/19/2019 17:30   511 Forest St, San Francisco, CA 94016  \n",
       "11685   9/30/2019 0:18   250 Meadow St, San Francisco, CA 94016  \n",
       "\n",
       "[186850 rows x 6 columns]"
      ]
     },
     "execution_count": 3,
     "metadata": {},
     "output_type": "execute_result"
    }
   ],
   "source": [
    " # importing the module pandas, os and warning from python library \n",
    "import pandas as pd\n",
    "import os as os\n",
    "import warnings\n",
    "warnings.filterwarnings('ignore')\n",
    "# creating a datagframe merged_data\n",
    "merged_data=pd.DataFrame()             \n",
    "#  reading all csv file in the given path in directory csv_files\n",
    "csv_files=r\"C:\\Users\\malla\\OneDrive\\Documents\\year2 sem2\\Smart data discovery\\Course_work\\drive-download-20230414T074205Z-001\"  \n",
    "#changing the path for current working directory from download to CSV_files directory\n",
    "os.chdir(csv_files) \n",
    "# assiging the current working directory conatainng the all csv files in variable Fdirection\n",
    "Fdirection=os.getcwd()    \n",
    "# using for loop to iterate csv file that is in the varaible Fdirection\n",
    "for each in os.listdir(Fdirection):   \n",
    " # choosing csv files\n",
    "    if each.endswith(\".csv\"):      \n",
    " # reads all file in the dataframe file using pandas \n",
    "        transferred_csv=pd.read_csv(each)                           \n",
    "        print(each)                                     # print to ckeck if all imported or not\n",
    "        merged_data=merged_data.append(transferred_csv)                                 # data from the files are added into updated dataframe a\n",
    "merged_data"
   ]
  },
  {
   "cell_type": "code",
   "execution_count": null,
   "id": "d80fe5e4-4090-4182-b387-b786ca406c0f",
   "metadata": {},
   "outputs": [],
   "source": [
    "merged_data.info()"
   ]
  },
  {
   "cell_type": "markdown",
   "id": "db15f5b1-2204-4f44-947c-dac7b302a9f1",
   "metadata": {},
   "source": [
    "<h4> Write a python program to remove the NaN missing values from updated \n",
    "dataframe. </h4>"
   ]
  },
  {
   "cell_type": "code",
   "execution_count": null,
   "id": "385bf222-4edb-4f50-8aa1-d59e5a7ac828",
   "metadata": {},
   "outputs": [],
   "source": [
    "display(merged_data)\n",
    "# droping all the null value in the table\n",
    "b=merged_data.dropna()      \n",
    "b"
   ]
  },
  {
   "cell_type": "markdown",
   "id": "82a01dbc-c03f-4721-b9f4-0cb36d2ca104",
   "metadata": {},
   "source": [
    " <h4>Write a python program to convert Quantity Ordered and Price Each\n",
    "to numeric. </h4>"
   ]
  },
  {
   "cell_type": "code",
   "execution_count": null,
   "id": "47082c07-86b7-4a3c-9d8f-d0551153f6cf",
   "metadata": {},
   "outputs": [],
   "source": [
    " # using .to_numeric convert into numeric value\n",
    "b['Quantity Ordered'] = pd.to_numeric(b['Quantity Ordered']  )   \n",
    "#  using .to_numeric convert into numeriv value\n",
    "b['Price Each'] = pd.to_numeric(b['Price Each'] )        \n",
    "b"
   ]
  },
  {
   "cell_type": "markdown",
   "id": "4a1f8d47-aa96-4055-bf9d-bcd2510522cf",
   "metadata": {},
   "source": [
    " <h4>Create a new column named Month from Ordered Date of updated \n",
    "dataframe and convert it to integer as data type</h4>"
   ]
  },
  {
   "cell_type": "code",
   "execution_count": null,
   "id": "c77769c8-23da-43ab-ad44-d3e7bdd46db4",
   "metadata": {},
   "outputs": [],
   "source": [
    " # adding the month value of orderdate in month\n",
    "b['month'] = pd.DatetimeIndex(b['Order Date']).month  \n",
    "# converting datatype as integer  \n",
    "b['month'] = b['month'].astype('int')                \n",
    "b"
   ]
  },
  {
   "cell_type": "code",
   "execution_count": null,
   "id": "6b8580e0-98b3-4255-8057-f5f50d9aae86",
   "metadata": {},
   "outputs": [],
   "source": [
    "b.info() #visualizing "
   ]
  },
  {
   "cell_type": "markdown",
   "id": "f01ac5fb-413f-4526-ab63-2eb181ca82db",
   "metadata": {},
   "source": [
    "<h4>Create a new column named City from Purchase Address based on \n",
    "the value in updated dataframe</h4>"
   ]
  },
  {
   "cell_type": "code",
   "execution_count": null,
   "id": "35c5302b-d442-40c6-9727-c4698700bae0",
   "metadata": {},
   "outputs": [],
   "source": [
    "# adding the value in the city \n",
    "b['city'] = b['Purchase Address'].apply(lambda x: x.split(',')[1])   # apply used to split the value in purchase address where there is ','\n",
    "b "
   ]
  },
  {
   "cell_type": "markdown",
   "id": "2d14bf38-abd2-4c0f-a762-5d6c546dc521",
   "metadata": {},
   "source": [
    "<h4> Write a Python program to show summary statistics of sum, mean, \n",
    "standard deviation, skewness, and kurtosis of any chosen variable.</h4>"
   ]
  },
  {
   "cell_type": "code",
   "execution_count": null,
   "id": "ef9ff83b-475a-491a-b3a1-995657437d53",
   "metadata": {},
   "outputs": [],
   "source": [
    "import numpy as np\n",
    "from scipy.stats import skew, kurtosis    #importing required modules from the python library\n",
    "\n",
    "datA=np.array(b['Quantity Ordered'])         # adding value in array datA from data extracted from dataframe b \n",
    "sum_A= np.sum(datA)                       # calculating the sum\n",
    "mean_A= np.mean(datA)                    # calculating the mean\n",
    "standard_A= np.std(datA)                 # calculating the standard deviation\n",
    "skew_A= skew(datA)                       # measuring the assemetry in the distribution\n",
    "kurtosis_A= kurtosis(datA)               # measuring the peakedness of the distribution\n",
    "print(\"sum of Quantity Ordered : \", sum_A)\n",
    "print(\"mean of Quantity Ordered: \", mean_A) \n",
    "print(\"std of Quantity Ordered: \", standard_A)\n",
    "print(\"skew of Quantity Ordered: \", skew_A)\n",
    "print(\"kortosis of Quantity Ordered: \", kurtosis_A)"
   ]
  },
  {
   "cell_type": "code",
   "execution_count": null,
   "id": "29fa9f9c-7af4-43d8-b2c6-67f34b97c04b",
   "metadata": {},
   "outputs": [],
   "source": [
    "import matplotlib.pyplot as plt\n",
    "b['sales'] = b['Quantity Ordered'] *b['Price Each'] "
   ]
  },
  {
   "cell_type": "markdown",
   "id": "e0fdfa55-0701-4d19-ba82-a99a8cedb263",
   "metadata": {},
   "source": [
    "<h4> Write a Python program to calculate and show correlation of all \n",
    "variables</h4>"
   ]
  },
  {
   "cell_type": "code",
   "execution_count": null,
   "id": "bc962265-383e-4fac-bb8f-5a7cfd6f4337",
   "metadata": {},
   "outputs": [],
   "source": [
    "import matplotlib.pyplot as plt\n",
    "import seaborn as sns\n",
    "corelation = b.corr()                # showing the relation between the orderid, quantity ordered and price each\n",
    "plt.imshow(corelation)\n",
    "#displaying the correlation\n",
    "print( corelation)   \n",
    "# to visualize the coorealtion from heat map\n",
    "sns.heatmap(corelation, annot = True)\n"
   ]
  },
  {
   "cell_type": "markdown",
   "id": "c3ea20b7-afc4-451d-8df7-5bcc9775c906",
   "metadata": {},
   "source": [
    "\n",
    "<h4>Which Month has the best sales? and how much was the earning in that \n",
    "month? Make a bar graph of sales as well. </h4>"
   ]
  },
  {
   "cell_type": "code",
   "execution_count": null,
   "id": "8c26a016-f862-49d4-8a45-9d956845131d",
   "metadata": {},
   "outputs": [],
   "source": [
    "import matplotlib.pyplot as plt\n",
    "b['sales'] = b['Quantity Ordered'] *b['Price Each']     # adding the value which is the multiplication of two column in sales\n",
    "\n",
    "amount = b.groupby('month')['sales'].sum()                   # group by month and adding sales                                       \n",
    "plt.bar(amount.index,amount.values,color=\"green\",alpha=0.3, edgecolor='black', label='month')\n",
    "plt.xticks(range(1,13),[\"Jan\",\"Feb\",\"Mar\",\"Apr\",\"May\",\"jun\",\"Jul\",\"Aug\",\"Sep\",\"Oct\",\"Nov\",\"Dec\"])        # changing the name of the x-ticks\n",
    "plt.yticks([0, 1000000, 2000000, 3000000, 4000000,5000000] ,['0', '1M', '2M', '3M', '4M','5M'])          # changing the name of the y-ticks\n",
    "#naming the bar graph\n",
    "plt.title(\" monthly sales\") \n",
    "# naming the x-axis\n",
    "plt.xlabel(\"Month\")\n",
    "# nmaing the y-axis\n",
    "plt.ylabel(\"Amount\")\n",
    "#displaying the bargraph\n",
    "plt.legend()\n",
    "plt.show()"
   ]
  },
  {
   "cell_type": "code",
   "execution_count": null,
   "id": "dfeeded1-9a71-4f42-8fb8-20041ef90509",
   "metadata": {},
   "outputs": [],
   "source": [
    "b.groupby(\"month\")['sales'].sum()    # to see the total sales in month"
   ]
  },
  {
   "cell_type": "markdown",
   "id": "de06c82b-2064-4296-9f06-8cd53fd77f6c",
   "metadata": {},
   "source": [
    " <h4>Which city has sold the highest product?</h4>"
   ]
  },
  {
   "cell_type": "code",
   "execution_count": null,
   "id": "336c94cd-ef64-4771-8160-bdcb540829a8",
   "metadata": {},
   "outputs": [],
   "source": [
    "# visualizing\n",
    "max_sale = b.groupby(\"city\")[\"Quantity Ordered\"].sum()    \n",
    "max_sale                                "
   ]
  },
  {
   "cell_type": "code",
   "execution_count": null,
   "id": "d5e7e965-4f02-4dd1-8b39-6266a328b914",
   "metadata": {},
   "outputs": [],
   "source": [
    "max_sale = b.groupby(\"city\")[\"Quantity Ordered\"].sum()    # adding the value city and quantity ordered in datafram max_sale     \n",
    "plt.bar(max_sale.index, max_sale.values, label=\"city\")           #graph plot where city is the x-axis and values are the quantity ordered\n",
    "plt.xticks(rotation = 90)                    # to display the name\n",
    "plt.xlabel('city')\n",
    "plt.ylabel('number of product saled')  \n",
    "plt.title(\"Product Sold in City\")\n",
    "plt.legend()\n",
    "plt.show()                                     # to display the plot    "
   ]
  },
  {
   "cell_type": "markdown",
   "id": "08a2780b-856a-44bd-9b5a-e23bb206cee9",
   "metadata": {},
   "source": [
    " <h4>Which product was sold the most in overall? Illustrate it through bar \n",
    "graph.</h4>"
   ]
  },
  {
   "cell_type": "code",
   "execution_count": null,
   "id": "6269b832-e79b-430c-89b5-864e46636f79",
   "metadata": {},
   "outputs": [],
   "source": [
    "values= b.groupby(\"Product\")[\"Quantity Ordered\"].sum()           # groupping the column\n",
    "##graph plot where product is the x-axis and values are the quantity ordered\n",
    "plt.bar(values.index,values.values,label=\"product\")    \n",
    "plt.xticks(rotation=90)\n",
    "plt.xlabel(\"Product\")\n",
    "plt.ylabel(\"Product sold\")\n",
    "plt.legend()\n",
    "plt.title(\"highest product sold\")\n",
    "plt.show()"
   ]
  },
  {
   "cell_type": "markdown",
   "id": "5036a602-8214-4383-84c8-8beca9e71478",
   "metadata": {},
   "source": [
    "<h4> Write a Python program to show histogram plot of any chosen variables. \n",
    "Use proper labels in the graph</h4>"
   ]
  },
  {
   "cell_type": "code",
   "execution_count": null,
   "id": "5358f0e8-b4f2-456f-b45a-401241fc45fb",
   "metadata": {},
   "outputs": [],
   "source": [
    "\n",
    "plt.hist(b['month'], bins= 12,edgecolor='black', color= \"green\" )       # bin used for managing number of bars\n",
    "#naming the x-ticks according ot the month which arange from 1 to 13.\n",
    "plt.xticks(np.arange(1,13),[\"January\",\"february\",\"March\",\"April\",\"May\",\"June\",\"July\",\"August\",\"September\",\"October\",\"November\",\"December\"], rotation=90 )                      # \n",
    "plt.xlabel(\"Months\")\n",
    "plt.ylabel(\"number of orders\")\n",
    "plt.show()"
   ]
  },
  {
   "cell_type": "code",
   "execution_count": null,
   "id": "fb833890-6e93-4827-9d7b-500f6f5ff0b6",
   "metadata": {},
   "outputs": [],
   "source": []
  },
  {
   "cell_type": "code",
   "execution_count": null,
   "id": "70e62e6b-b5ae-42e9-b65a-6951f676ee96",
   "metadata": {},
   "outputs": [],
   "source": []
  }
 ],
 "metadata": {
  "kernelspec": {
   "display_name": "Python 3 (ipykernel)",
   "language": "python",
   "name": "python3"
  },
  "language_info": {
   "codemirror_mode": {
    "name": "ipython",
    "version": 3
   },
   "file_extension": ".py",
   "mimetype": "text/x-python",
   "name": "python",
   "nbconvert_exporter": "python",
   "pygments_lexer": "ipython3",
   "version": "3.9.13"
  }
 },
 "nbformat": 4,
 "nbformat_minor": 5
}
